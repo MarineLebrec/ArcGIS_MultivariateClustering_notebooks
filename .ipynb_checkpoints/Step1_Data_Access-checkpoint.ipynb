{
 "cells": [
  {
   "cell_type": "markdown",
   "id": "734ed012-52f5-4d66-8d58-f54c96ea608c",
   "metadata": {},
   "source": [
    "## Data Access & Pre-processing"
   ]
  },
  {
   "cell_type": "markdown",
   "id": "a2447075-0ffb-4189-9bbc-97bcfd85094a",
   "metadata": {},
   "source": [
    "This notebook is a walk-through of the following steps:\n",
    "- Accessing GEBCO bathymetry data, clipping that data to a region of interest, and masking that data to exclude values above sea level.\n",
    "- Run the Benthic Terrain Modeler\n",
    "- Accessing Bio-ORACLE and NEMO-MEDUSA raster layers"
   ]
  },
  {
   "cell_type": "markdown",
   "id": "57b512a8-5bde-47aa-b188-28271dc07b7d",
   "metadata": {},
   "source": [
    "### <u>GEBCO Bathymetry Data<u>"
   ]
  },
  {
   "cell_type": "markdown",
   "id": "49601fc0-2559-4183-b5fe-f3e92cee13cb",
   "metadata": {},
   "source": [
    "#### 1. Download data, generate mosaic, clip to region of interest"
   ]
  },
  {
   "cell_type": "markdown",
   "id": "0bddb5f6-1e85-4850-bdd4-76a270254965",
   "metadata": {},
   "source": [
    "The GEBCO_2023 Grid (sub-ice topo/bathy) can be downloaded at [this link](https://www.gebco.net/data_and_products/gridded_bathymetry_data/) in several formats: NetCDF, EsrI ACRII raster, or GeoTIFF. Download the \"Data GeoTiff\". These data will be downloaded as 8 tiles (each with an area of 90° x 90°)."
   ]
  },
  {
   "cell_type": "markdown",
   "id": "f1350232-d71e-40a2-bf67-c30292af988f",
   "metadata": {},
   "source": [
    "<img src=\"images/gebco_download.png\" style=\"height:250px\" />"
   ]
  },
  {
   "cell_type": "markdown",
   "id": "1b013020-6f9d-448a-9fd0-122da4541dec",
   "metadata": {},
   "source": [
    "In ArcGIS Pro, use the **Mosaic to New Raster** tool, with the following settings applied: Pixel Type = 16 bit signed, Number of bands = 1, Mosaic Operator = Last."
   ]
  },
  {
   "cell_type": "markdown",
   "id": "acdfd666-6f61-431e-985a-cc05ab84bcb4",
   "metadata": {
    "tags": []
   },
   "source": [
    "<img src=\"images/gebco_mosaic.png\" style=\"height:300px\" />"
   ]
  },
  {
   "cell_type": "markdown",
   "id": "2040f3ab-f756-40e0-927c-319cd4eaf7ff",
   "metadata": {},
   "source": [
    "We can now clip the raster to our region of interest by using the **Clip Raster** tool. The input raster is the global mosaic raster, and the extent can manually be changed by updating the coordinates of the rectangle.<br> Leave the NoData Value as blank or use the default value (32767)"
   ]
  },
  {
   "cell_type": "markdown",
   "id": "74bf8361-b8d8-499c-9cea-a482dfdec217",
   "metadata": {},
   "source": [
    "<img src=\"images/gebco_clipped.png\" style=\"height:400px\" />"
   ]
  },
  {
   "cell_type": "markdown",
   "id": "0b0f03d9-3386-4f88-b374-d5791e3b9874",
   "metadata": {},
   "source": [
    "#### 2. Create a mask of land so only values below sea level are included in the raster."
   ]
  },
  {
   "cell_type": "markdown",
   "id": "a55dbf1d-bcd6-42f7-954d-fc0fdec30f58",
   "metadata": {},
   "source": [
    "1. Use the **Less Than** Spatial Analyst tool, with the input raster being the clipped bathymetry mosaic generated in the previous step. The constant value 2 should be inputted as \"0\". \n",
    "2. Next, use the **Set Null** Spatial Analyst tool with the output from the previous step set as the input conditional raster, and the input constant value set as 0. This will set all grids labeled as \"0\" to NaNs.\n",
    "3. Lastly, use the **Extract by Mask** tool with the clipped bathymetry mosaic as the input raster, and set the feature mask data to the mask output from the previous step. Make sure to set the extraction area as \"outside\". <br>\n",
    "Now you should have a raster layer with bathymetry values only in the ocean."
   ]
  },
  {
   "cell_type": "markdown",
   "id": "59afe183-da40-4e3a-b0dd-76d257f1d4ea",
   "metadata": {},
   "source": [
    "<img src=\"images/gebco_masked.png\" style=\"height:400px\" />"
   ]
  },
  {
   "cell_type": "markdown",
   "id": "b3c2e6dc-1b18-4b13-ac0e-6e8f7c45c20b",
   "metadata": {},
   "source": [
    "#### 4. Run the Benthic Terrain Modeler"
   ]
  },
  {
   "cell_type": "markdown",
   "id": "61564d89-7719-4704-a54b-973b36934146",
   "metadata": {},
   "source": [
    "We will use version 3.0 of the Benthic Terrain Modeler (BTM) for ArcGIS Pro. This tool is used to classify and analyze benthic terrain for geomorphology and classification. <br>\n",
    "Here are some useful links if you want to learn more about how the BTM works: <br>\n",
    "- [Walbridge et al., 2018](https://www.mdpi.com/2076-3263/8/3/94)\n",
    "- [Software ReadME](https://dusk.geo.orst.edu/djl/samoa/tools/readme.txt) <br>\n"
   ]
  },
  {
   "cell_type": "markdown",
   "id": "c0819610-280f-44d5-98be-6d4711b01562",
   "metadata": {},
   "source": [
    "##### <u>Steps for installing the BTM Toolbox onto ArcGIS Pro:<u>\n",
    "1. Download the BTM Version 3.0 Toolbox by clicking \"Download\" at the top right of [this page](https://www.arcgis.com/home/item.html?id=b0d0be66fd33440d97e8c83d220e7926#!?TB_iframe=true)\n",
    "2. Extract the contents of the zipped folder on your local machine\n",
    "3. In ArcGIS Pro, go to View -> Catalog Pane -> Right-Click on Toolboxes -> Select \"Add Toolbox\"\n",
    "4. Navigate to the extracted BTM toolbox, and select the \"btm.pyt\" toolbox, and click OK. You should now see the toolbox appear in your list of toolboxes. \n",
    "\n",
    "##### <u>Steps for running the BTM:<u>\n",
    "1. Under the Bathymetric Position Index (BPI) toolset, select the script \"Build Broad Scale BPI\". Set the inner radius to 1 and an outer radius to 10, giving a scale factor of ∼100 km. <br>\n",
    "2. Under the Bathymetric Position Index (BPI) toolset, select the script \"Build Fine Scale BPI\". Set the inner radius of 1 and an outer radius of 2, giving a scale factor of ∼20 km. <br>\n",
    "3. Under the Surface Deviations and Statistics toolset, select the script \"Calculate Slope\". <br>\n",
    "For all of these steps, the input bathymetry layer should be the GEBCO bathymetry raster layer which has been clipped and masked."
   ]
  },
  {
   "cell_type": "markdown",
   "id": "1ca662a7-1fa9-4629-9fd3-a3123519cf2b",
   "metadata": {
    "tags": []
   },
   "source": [
    "<img src=\"images/bbpi.png\" style=\"height:400px\" />"
   ]
  },
  {
   "cell_type": "markdown",
   "id": "5ee4b780-5add-4e58-9518-f10a90fa8d7d",
   "metadata": {
    "tags": []
   },
   "source": [
    "### <u>Bio-ORACLE Environmental Data<u>"
   ]
  },
  {
   "cell_type": "markdown",
   "id": "2122dd0f-3662-470c-b384-c4236cec1fb4",
   "metadata": {},
   "source": [
    "#### Download rasters of global benthic mean temperature and salinity estimates from the [Bio-ORACLE download manager](https://www.bio-oracle.org/downloads-to-email.php)\n",
    "The following datasets were downloaded as TIFF files:\n",
    "- benthic temperature (present)\n",
    "- benthic salinity (present)"
   ]
  },
  {
   "cell_type": "markdown",
   "id": "acdc22fa-e591-4d05-afa7-234b130ddf0b",
   "metadata": {
    "tags": []
   },
   "source": [
    "<img src=\"images/biooracle1.png\" style=\"height:450px\" /> <img src=\"images/biooracle2.png\" style=\"height:250px\" />"
   ]
  },
  {
   "cell_type": "markdown",
   "id": "b969859b-0915-47c2-bace-967e4bb705ac",
   "metadata": {},
   "source": [
    "### <u>NEMO-MEDUSA Benthic POC Flux Model<u>"
   ]
  },
  {
   "cell_type": "markdown",
   "id": "562bb9c0-8846-4a8e-b2a5-119d7e6c1995",
   "metadata": {},
   "source": [
    "#### Next, access the NEMO-MEDUSA Seafloor Particular Organic Carbon Flux model output from [Zenodo](https://zenodo.org/record/6513616).\n",
    "- Download the file named MEDUSA_ORCA0083_REGRID_2006-2015_flux.nc <br>\n",
    "- There are a few steps that need to be taken to be able to work with this netCDF file for our analyses:"
   ]
  }
 ],
 "metadata": {
  "kernelspec": {
   "display_name": "Python 3 (ipykernel)",
   "language": "python",
   "name": "python3"
  },
  "language_info": {
   "codemirror_mode": {
    "name": "ipython",
    "version": 3
   },
   "file_extension": ".py",
   "mimetype": "text/x-python",
   "name": "python",
   "nbconvert_exporter": "python",
   "pygments_lexer": "ipython3",
   "version": "3.11.3"
  }
 },
 "nbformat": 4,
 "nbformat_minor": 5
}
