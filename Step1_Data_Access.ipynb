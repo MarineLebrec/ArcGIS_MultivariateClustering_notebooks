{
 "cells": [
  {
   "cell_type": "markdown",
   "id": "734ed012-52f5-4d66-8d58-f54c96ea608c",
   "metadata": {},
   "source": [
    "## Data Access & Pre-processing"
   ]
  },
  {
   "cell_type": "markdown",
   "id": "a2447075-0ffb-4189-9bbc-97bcfd85094a",
   "metadata": {},
   "source": [
    "This notebook is a walk-through of the following steps:\n",
    "- Accessing GEBCO bathymetry data, clipping that data to a region of interest, and masking that data to exclude values above sea level.\n",
    "- Run the Benthic Terrain Modeler\n",
    "- Accessing Bio-ORACLE and NEMO-MEDUSA raster layers"
   ]
  },
  {
   "cell_type": "markdown",
   "id": "57b512a8-5bde-47aa-b188-28271dc07b7d",
   "metadata": {},
   "source": [
    "### <u>GEBCO Bathymetry Data<u>"
   ]
  },
  {
   "cell_type": "markdown",
   "id": "49601fc0-2559-4183-b5fe-f3e92cee13cb",
   "metadata": {},
   "source": [
    "#### 1. Download GEBCO bathymetry data"
   ]
  },
  {
   "cell_type": "markdown",
   "id": "0bddb5f6-1e85-4850-bdd4-76a270254965",
   "metadata": {},
   "source": [
    "The GEBCO_2023 Grid (sub-ice topo/bathy) can be downloaded at [this link](https://www.gebco.net/data_and_products/gridded_bathymetry_data/) in several formats: NetCDF, EsrI ACRII raster, or GeoTIFF. Download the \"netCDF\" file. Note that this file will take several minutes to download."
   ]
  },
  {
   "cell_type": "markdown",
   "id": "f1350232-d71e-40a2-bf67-c30292af988f",
   "metadata": {},
   "source": [
    "<img src=\"images/gebcodownload.png\" style=\"height:250px\" />"
   ]
  },
  {
   "cell_type": "markdown",
   "id": "77203bfb",
   "metadata": {},
   "source": [
    "#### 2. Define your region of interest"
   ]
  },
  {
   "cell_type": "markdown",
   "id": "2400c7ce",
   "metadata": {},
   "source": [
    "In the **Analysis** tab, select \"Environments\" in the Geoprocessing section. In the \"Processing Extent\", select \"As Specified Below\", and input the coordinates that you are interested in. \n",
    "- need input from Keith here - how to set Extent and have it saved. I think what I'm doing is right but not sure."
   ]
  },
  {
   "cell_type": "markdown",
   "id": "dd1ce128",
   "metadata": {},
   "source": [
    "<img src=\"images/setextent.png\" style=\"height:400px\" />"
   ]
  },
  {
   "cell_type": "markdown",
   "id": "89ce6fab",
   "metadata": {},
   "source": [
    "#### 3. Make Multidimensional Raster Layer"
   ]
  },
  {
   "cell_type": "markdown",
   "id": "3c30d612",
   "metadata": {},
   "source": [
    "Use the **Make Multidimensional Raster Layer** tool, with the netCDF file as your input file. Select the variable that you want to use in your layer (elevation). Since your extent has already been defined, the coordinates of the extent will automatically populate. You shoudl now be able to visualize the GEBCO output for your region of interest."
   ]
  },
  {
   "cell_type": "markdown",
   "id": "c9f656b4",
   "metadata": {},
   "source": [
    "<img src=\"images/makemulti.png\" style=\"height:300px\" /> <img src=\"images/makemulti_westcoast.png\" style=\"height:300px\" />"
   ]
  },
  {
   "cell_type": "markdown",
   "id": "3e12335a",
   "metadata": {},
   "source": [
    "#### 4. Remove values above sea-level"
   ]
  },
  {
   "cell_type": "markdown",
   "id": "210d9797",
   "metadata": {},
   "source": [
    "Use the **Con** Spatial Analyst tool to make a conditional statement on each of the raster grid cells. Set the Input conditional raster as the raster made in the previous step, and set the condition to \"Where Values is less than 0\". <br>\n",
    "Use the same raster layer as the \"Input true raster\". What this does is it will use grid cells from the GEBCO raster if the grid cell values from the same raster are less than 0. <br> \n",
    "Save the output raster as a file with a \".crf\" extension. This is a file format that ESRI uses to support multidimensional data. <br>\n",
    "You should now be able to see a new layer with values only below sea level."
   ]
  },
  {
   "cell_type": "markdown",
   "id": "9b6c46b9",
   "metadata": {},
   "source": [
    "<img src=\"images/con.png\" style=\"height:300px\" /> <img src=\"images/con_westcoast.png\" style=\"height:300px\" />"
   ]
  },
  {
   "cell_type": "markdown",
   "id": "52c490ba",
   "metadata": {},
   "source": [
    "#### 5. Convert raster to TIFF"
   ]
  },
  {
   "cell_type": "markdown",
   "id": "cdd07187",
   "metadata": {},
   "source": [
    "Next we can convert theh CRF file to TIFF format. This step will ensure that all of the layers we are using are in the same format. \n",
    "Use the **Copy Raster** tool with the .crf file from the previous step as the input raster, and set the output raster dataset as a file with a \".tif\" extension. Under \"Format\", select \"TIFF Format\". Keep the NoData value as the default value (which should be -32718)"
   ]
  },
  {
   "cell_type": "markdown",
   "id": "b3c2e6dc-1b18-4b13-ac0e-6e8f7c45c20b",
   "metadata": {},
   "source": [
    "### <u>Running the Benthic Terrain Modeler<u>"
   ]
  },
  {
   "cell_type": "markdown",
   "id": "61564d89-7719-4704-a54b-973b36934146",
   "metadata": {},
   "source": [
    "We will use version 3.0 of the Benthic Terrain Modeler (BTM) for ArcGIS Pro. This tool is used to classify and analyze benthic terrain for geomorphology and classification. <br>\n",
    "Here are some useful links if you want to learn more about how the BTM works: <br>\n",
    "- [Walbridge et al., 2018](https://www.mdpi.com/2076-3263/8/3/94)\n",
    "- [Software ReadME](https://dusk.geo.orst.edu/djl/samoa/tools/readme.txt) <br>\n"
   ]
  },
  {
   "cell_type": "markdown",
   "id": "c0819610-280f-44d5-98be-6d4711b01562",
   "metadata": {},
   "source": [
    "##### <u>Steps for installing the BTM Toolbox onto ArcGIS Pro:<u>\n",
    "1. Download the BTM Version 3.0 Toolbox by clicking \"Download\" at the top right of [this page](https://www.arcgis.com/home/item.html?id=b0d0be66fd33440d97e8c83d220e7926#!?TB_iframe=true)\n",
    "2. Extract the contents of the zipped folder on your local machine\n",
    "3. In ArcGIS Pro, go to View -> Catalog Pane -> Right-Click on Toolboxes -> Select \"Add Toolbox\"\n",
    "4. Navigate to the extracted BTM toolbox, and select the \"btm.pyt\" toolbox, and click OK. You should now see the toolbox appear in your list of toolboxes. \n",
    "\n",
    "##### <u>Steps for running the BTM:<u>\n",
    "1. Under the Bathymetric Position Index (BPI) toolset, select the script \"Build Broad Scale BPI\". Set the inner radius to 1 and an outer radius to 10, giving a scale factor of ∼100 km. <br>\n",
    "2. Under the Bathymetric Position Index (BPI) toolset, select the script \"Build Fine Scale BPI\". Set the inner radius of 1 and an outer radius of 2, giving a scale factor of ∼20 km. <br>\n",
    "3. Under the Surface Deviations and Statistics toolset, select the script \"Calculate Slope\". <br>\n",
    "For all of these steps, the input bathymetry layer should be the GEBCO bathymetry raster layer which has been clipped and masked."
   ]
  },
  {
   "cell_type": "markdown",
   "id": "1ca662a7-1fa9-4629-9fd3-a3123519cf2b",
   "metadata": {
    "tags": []
   },
   "source": [
    "<img src=\"images/bbpi.png\" style=\"height:400px\" />"
   ]
  },
  {
   "cell_type": "markdown",
   "id": "5ee4b780-5add-4e58-9518-f10a90fa8d7d",
   "metadata": {
    "tags": []
   },
   "source": [
    "### <u>Bio-ORACLE Environmental Data<u>"
   ]
  },
  {
   "cell_type": "markdown",
   "id": "2122dd0f-3662-470c-b384-c4236cec1fb4",
   "metadata": {},
   "source": [
    "#### Download rasters of global benthic mean temperature and salinity estimates from the [Bio-ORACLE download manager](https://www.bio-oracle.org/downloads-to-email.php)\n",
    "The following datasets were downloaded as TIFF files:\n",
    "- benthic temperature (present)\n",
    "- benthic salinity (present) "
   ]
  },
  {
   "cell_type": "markdown",
   "id": "acdc22fa-e591-4d05-afa7-234b130ddf0b",
   "metadata": {
    "tags": []
   },
   "source": [
    "<img src=\"images/biooracle1.png\" style=\"height:400px\" /> <img src=\"images/biooracle2.png\" style=\"height:200px\" />"
   ]
  },
  {
   "cell_type": "markdown",
   "id": "b969859b-0915-47c2-bace-967e4bb705ac",
   "metadata": {},
   "source": [
    "### <u>NEMO-MEDUSA Benthic POC Flux Model<u>"
   ]
  },
  {
   "cell_type": "markdown",
   "id": "562bb9c0-8846-4a8e-b2a5-119d7e6c1995",
   "metadata": {},
   "source": [
    "#### Next, access the NEMO-MEDUSA Seafloor Particular Organic Carbon Flux model output from [Zenodo](https://zenodo.org/record/6513616).\n",
    "- Download the file named MEDUSA_ORCA0083_REGRID_2006-2015_flux.nc <br>\n",
    "- There are a few steps that need to be taken to be able to work with this netCDF file for our analyses:\n"
   ]
  },
  {
   "cell_type": "markdown",
   "id": "f6619314",
   "metadata": {
    "vscode": {
     "languageId": "plaintext"
    }
   },
   "source": [
    "1. Use the **Make Multidimensional Raster Layer** tool, using the netcdf file as the Input Multidimensional Raster, and selecting \"avg_flux\" as the variable to use in the raster layer. The Dimension Information and Extent does not need to be changed. <br>"
   ]
  },
  {
   "cell_type": "markdown",
   "id": "341b5777",
   "metadata": {},
   "source": [
    "<img src=\"images/makemultidim.png\" style=\"height:450px\" />"
   ]
  },
  {
   "cell_type": "markdown",
   "id": "6f394954",
   "metadata": {},
   "source": [
    "2. Use the **Copy Raster** tool to make a copy of the mutlidimensional raster and save is as a (Cloud Raster Format (CRF)), selecting the \"Process as Multidimensional\" option."
   ]
  },
  {
   "cell_type": "markdown",
   "id": "21f984be",
   "metadata": {},
   "source": [
    "<img src=\"images/copyraster.png\" style=\"height:450px\" />"
   ]
  },
  {
   "cell_type": "markdown",
   "id": "7ed154e9",
   "metadata": {},
   "source": [
    "3. Rescale the resolution of the multidimensional raster by specifying the x and y scale factors using the **Rescale** tool. Set the x and y scale factor to 8.333333333E-02 (1/12 of a degree). Make sure to use the CRF file from the previous step in the rescaling. "
   ]
  },
  {
   "cell_type": "markdown",
   "id": "01d6ba26",
   "metadata": {},
   "source": [
    "<img src=\"images/rescale.png\" style=\"height:250px\" />"
   ]
  },
  {
   "cell_type": "markdown",
   "id": "f2c84eec",
   "metadata": {},
   "source": [
    "4. Use the **Shift** tool to move the x and y values of the raster to new geographic location - this will ensure that this layer can be perfectly overlaid with the other layers.\n",
    "Set the following shifts:\n",
    "- Shift x-coordinates by: -180\n",
    "- Shift y-coordinates by: 2070"
   ]
  },
  {
   "cell_type": "markdown",
   "id": "cc447231",
   "metadata": {},
   "source": [
    "<img src=\"images/shift.png\" style=\"height:250px\" />"
   ]
  },
  {
   "cell_type": "markdown",
   "id": "b70eb084",
   "metadata": {},
   "source": [
    "5. Lastly, use the **Define Projection** tool to set the projection to \"GCS_WGS_1984\" to ensure the layer is in the same projection as the other raster layers used in this analysis. Once that step has been run, the avg benthic POC flux model output should be properly projected on a map: "
   ]
  },
  {
   "cell_type": "markdown",
   "id": "91ccccd1",
   "metadata": {},
   "source": [
    "<img src=\"images/poc_raster.png\" style=\"height:350px\" />"
   ]
  }
 ],
 "metadata": {
  "kernelspec": {
   "display_name": "Python 3 (ipykernel)",
   "language": "python",
   "name": "python3"
  },
  "language_info": {
   "codemirror_mode": {
    "name": "ipython",
    "version": 3
   },
   "file_extension": ".py",
   "mimetype": "text/x-python",
   "name": "python",
   "nbconvert_exporter": "python",
   "pygments_lexer": "ipython3",
   "version": "3.11.3"
  }
 },
 "nbformat": 4,
 "nbformat_minor": 5
}
