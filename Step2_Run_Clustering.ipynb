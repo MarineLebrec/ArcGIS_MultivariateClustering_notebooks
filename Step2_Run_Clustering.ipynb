{
 "cells": [
  {
   "cell_type": "markdown",
   "id": "4401783c-7943-4038-9394-73f77c734bf9",
   "metadata": {},
   "source": [
    "## Creating Feature Class & Running Multivariate Clustering"
   ]
  },
  {
   "cell_type": "markdown",
   "id": "dc02e0c4-a066-4721-801d-9b65708b53c5",
   "metadata": {},
   "source": [
    "This notebook is a walk-through of the following steps: \n",
    "- Resample bathymetry layer\n",
    "- Convert one of the BTM outputs raster to points\n",
    "- Create feature class containing all layers \n",
    "- Aggregate points to hexagons for better visualization\n",
    "- Run Multivariate Clustering "
   ]
  },
  {
   "cell_type": "markdown",
   "id": "440651bb-ff0a-4de7-9c1c-60710c0f13ca",
   "metadata": {},
   "source": [
    "### <u>Aggregate bathymetry data to coarser resolution<u>\n",
    "\n",
    "The GEBCO bathymetry data is at ~450m resolution, while the Bio-ORACLE and POC flux layers are much coarser (1/12-degree resolution or ~9km). To have grid cells of adequate size for all layers, we will down-sample one of the bathymetry layers (in this case to 5km resolution) using the **Aggregate** Spatial Analyst tool. Use the following settings: Cell factor = 11, Aggregation technique = Mean. Note that any of the bathymetry layers can be used here (bathymetry, BBPI, FBPI, or slope). <br>"
   ]
  },
  {
   "cell_type": "markdown",
   "id": "6c09ece7-ee89-4785-bf0b-ea4ebba84aef",
   "metadata": {},
   "source": [
    "### <u>Convert Raster to Points, create bins, and create Feature Class<u>"
   ]
  },
  {
   "cell_type": "markdown",
   "id": "b4d17e7d-8dba-4d79-aab7-13b55878415e",
   "metadata": {},
   "source": [
    "1. Convert the same raster that the previous step was run on to points using the **Raster to Point** tool. <br>\n",
    "After this step is done, you can right click on the layer in the contents pane and select \"Attribute Table\" to look at the contents of the table. <br>\n",
    "The next step is to add all other layers (BTM outputs and environmental layers) to the same Feature Class. "
   ]
  },
  {
   "cell_type": "markdown",
   "id": "53d78a90-008e-4b73-95db-dd3810fe11a4",
   "metadata": {},
   "source": [
    "2. Optional: convert points to hexagons using the **Aggregate Points** tool"
   ]
  },
  {
   "cell_type": "markdown",
   "id": "8c4a8338-d06b-4aaa-b19c-9184dce36a0c",
   "metadata": {},
   "source": [
    "3. Use the **Extract Multi Values to Points** tool to add other layers to the feature class generated in the previous steps. Select the input rasters to include in the feature class: all BTM output layers, Bio-ORACLE layers, and benthic POC flux model layer."
   ]
  },
  {
   "cell_type": "markdown",
   "id": "4b03688e-8bab-4fd6-a8ea-25734175debb",
   "metadata": {
    "tags": []
   },
   "source": [
    "<img src=\"images/table.png\" style=\"width:600px; height:auto;\" />"
   ]
  },
  {
   "cell_type": "markdown",
   "id": "dfd0e41e-7a7e-465e-838d-8b99548eae19",
   "metadata": {},
   "source": [
    "### <u>Run Clustering Analysis<u>"
   ]
  },
  {
   "cell_type": "markdown",
   "id": "a7e29738-e4d4-4796-be40-1df83ea0c856",
   "metadata": {},
   "source": [
    "Use the **[Multivariate Clustering](https://pro.arcgis.com/en/pro-app/latest/tool-reference/spatial-statistics/multivariate-clustering.htm)** Spatial Statistics tool by doing the following:\n",
    "- Input Features: select the feature class generated in the previous step\n",
    "- Select the Analysis Fields to be used in the clustering (temperature, salinity, poc flux, bbpi, fbpi, slope). \n",
    "- Select the k-medoids clustering method, and the \"optimized seed locatios\" as the initialization method\n",
    "- Enter a name/path for an output table for evaluating the number of clusters"
   ]
  },
  {
   "cell_type": "markdown",
   "id": "0cd0ce34-88da-4c83-bc96-3ff4dbc59889",
   "metadata": {
    "tags": []
   },
   "source": [
    "<img src=\"images/clustering_settings.png\" style=\"width:400px; height:auto;\" />"
   ]
  },
  {
   "cell_type": "markdown",
   "id": "32278174-307a-4a80-9d40-b4c9cab81920",
   "metadata": {},
   "source": [
    "Once the clustering is done running, you can open the Pseudo-F statistic chart to evaluate the number of clusters that you want to use for your analysis. The Pseudo-F statistic describes the ratio of between cluster variance to within-cluster variance. Once you've decided the number of clusters to use, re-run the clustering, this time inputting a number under \"Number of Clusters\"."
   ]
  },
  {
   "cell_type": "markdown",
   "id": "df63bc85-3adf-46d8-a1c0-77ce6440733c",
   "metadata": {},
   "source": [
    "<img src=\"images/pseudo_f_allparams.png\" style=\"width:700px; height:auto;\" />"
   ]
  },
  {
   "cell_type": "markdown",
   "id": "36bca6d3-9745-4587-8b79-2bb35c764665",
   "metadata": {},
   "source": [
    "Once the clustering is done running using your specified number of clusters, box-plots will be generated to visualize how different clustering groups correspond to the various input layers. Select Mulivariate Clustering Box-Plots in the content pane to interact with those figures. <br>\n",
    "As an example, values corresponding to the cluster \"7\" (yellow line in the plot below) tends to be productive (high POC flux), low salinity, and higher temperature. "
   ]
  },
  {
   "cell_type": "markdown",
   "id": "9f32deaf-20d6-4f01-9f56-318730d18400",
   "metadata": {},
   "source": [
    "<img src=\"images/boxplot.png\" style=\"width:700px; height:auto;\" />"
   ]
  },
  {
   "cell_type": "markdown",
   "id": "824f3150-2385-494f-8fc8-ad019ef9b1df",
   "metadata": {},
   "source": [
    "## <u>Visualizing outputs<u>"
   ]
  },
  {
   "cell_type": "markdown",
   "id": "b82199db-50f5-4248-87c6-56fff5239627",
   "metadata": {},
   "source": [
    "There are several ways to visualize the outputs of the clustering in a map:\n",
    "- One option is to use the **Point to Raster** tool to generate a raster layer from the point feature class. In this case, each color corresponds to a cluster ID generated during the clustering step."
   ]
  },
  {
   "cell_type": "markdown",
   "id": "6cd32db2-a341-4334-81be-335e93a32d6d",
   "metadata": {},
   "source": [
    "<img src=\"images/output_raster.png\" style=\"width:400px; height:auto;\" />"
   ]
  },
  {
   "cell_type": "markdown",
   "id": "1e6c4b98-d448-489a-a398-7529f70d74f0",
   "metadata": {},
   "source": [
    "- Using hexagonal bins to visualize the point-level data can also be done using the **Aggregate Points** GeoAnalyst Desktop Tool"
   ]
  },
  {
   "cell_type": "code",
   "execution_count": null,
   "id": "abd7a390-1399-45e0-a1da-22fa7a7e1577",
   "metadata": {},
   "outputs": [],
   "source": []
  },
  {
   "cell_type": "code",
   "execution_count": null,
   "id": "8e920274-2898-4c1a-b972-243d1c9877a7",
   "metadata": {},
   "outputs": [],
   "source": []
  }
 ],
 "metadata": {
  "kernelspec": {
   "display_name": "Python 3 (ipykernel)",
   "language": "python",
   "name": "python3"
  },
  "language_info": {
   "codemirror_mode": {
    "name": "ipython",
    "version": 3
   },
   "file_extension": ".py",
   "mimetype": "text/x-python",
   "name": "python",
   "nbconvert_exporter": "python",
   "pygments_lexer": "ipython3",
   "version": "3.11.3"
  }
 },
 "nbformat": 4,
 "nbformat_minor": 5
}
